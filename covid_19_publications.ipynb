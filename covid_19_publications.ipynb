{
  "nbformat": 4,
  "nbformat_minor": 0,
  "metadata": {
    "colab": {
      "name": "covid-19-publications.ipynb",
      "provenance": [],
      "collapsed_sections": []
    },
    "kernelspec": {
      "name": "python3",
      "display_name": "Python 3"
    }
  },
  "cells": [
    {
      "cell_type": "markdown",
      "metadata": {
        "id": "3cOMNaHkuSLO",
        "colab_type": "text"
      },
      "source": [
        "# Retrieving COVID-19 publications from Pubmed\n",
        "\n",
        "\n",
        "\n",
        "\n",
        "\n",
        "\n",
        "\n"
      ]
    },
    {
      "cell_type": "markdown",
      "metadata": {
        "id": "sq04XWPB4ebb",
        "colab_type": "text"
      },
      "source": [
        "Install Biopython."
      ]
    },
    {
      "cell_type": "code",
      "metadata": {
        "id": "KDLIeYl6lJaO",
        "colab_type": "code",
        "colab": {}
      },
      "source": [
        "!pip install biopython as Bio"
      ],
      "execution_count": 0,
      "outputs": []
    },
    {
      "cell_type": "markdown",
      "metadata": {
        "id": "Xt2ehl0T5Anp",
        "colab_type": "text"
      },
      "source": [
        "List PMIDs of COVID-19-related publications."
      ]
    },
    {
      "cell_type": "code",
      "metadata": {
        "id": "J2U0jJIBvCi5",
        "colab_type": "code",
        "outputId": "3cd3619e-a214-4b12-87d0-2c8cdb7896af",
        "colab": {
          "base_uri": "https://localhost:8080/",
          "height": 35
        }
      },
      "source": [
        "from Bio import Entrez\n",
        "\n",
        "Entrez.email = \"example@example.com\" # Enter your email here.\n",
        "handle = Entrez.esearch(db=\"pubmed\", term=\"covid-19\", retmax=10)\n",
        "record = Entrez.read(handle)\n",
        "handle.close()\n",
        "idlist = record[\"IdList\"]\n",
        "print(idlist)"
      ],
      "execution_count": 2,
      "outputs": [
        {
          "output_type": "stream",
          "text": [
            "['32197274', '32197238', '32197116', '32197108', '32197104', '32197103', '32197098', '32197096', '32197093', '32197085']\n"
          ],
          "name": "stdout"
        }
      ]
    },
    {
      "cell_type": "markdown",
      "metadata": {
        "id": "qJ1X3E7y5SlN",
        "colab_type": "text"
      },
      "source": [
        "Extract information from Medline records."
      ]
    },
    {
      "cell_type": "code",
      "metadata": {
        "id": "vn-R6pt7v40V",
        "colab_type": "code",
        "outputId": "dddfecda-75b0-41cd-dcfa-ccd947963cda",
        "colab": {
          "base_uri": "https://localhost:8080/",
          "height": 756
        }
      },
      "source": [
        "from Bio import Medline\n",
        "\n",
        "handle = Entrez.efetch(db=\"pubmed\", id=idlist, rettype=\"medline\", retmode=\"text\")\n",
        "records = Medline.parse(handle)\n",
        "records = list(records)\n",
        "for record in records:\n",
        "  print(record.get(\"TI\", \"?\"))\n",
        "  print(\"Published on\", record.get(\"DP\", \"?\"))\n",
        "  print(\"https://pubmed.ncbi.nlm.nih.gov/\" + record.get(\"PMID\", \"?\"))\n",
        "  print(\"\")"
      ],
      "execution_count": 0,
      "outputs": [
        {
          "output_type": "stream",
          "text": [
            "COVID-19: Vulnerability and the power of privilege in a pandemic.\n",
            "Published on 2020 Mar 20\n",
            "https://pubmed.ncbi.nlm.nih.gov/32197274\n",
            "\n",
            "Managing Cancer Care During the COVID-19 Pandemic: Agility and Collaboration Toward a Common Goal.\n",
            "Published on 2020 Mar 20\n",
            "https://pubmed.ncbi.nlm.nih.gov/32197238\n",
            "\n",
            "Prisons and custodial settings are part of a comprehensive response to COVID-19.\n",
            "Published on 2020 Mar 17\n",
            "https://pubmed.ncbi.nlm.nih.gov/32197116\n",
            "\n",
            "Clinical course and mortality risk of severe COVID-19.\n",
            "Published on 2020 Mar 17\n",
            "https://pubmed.ncbi.nlm.nih.gov/32197108\n",
            "\n",
            "Evidence informing the UK's COVID-19 public health response must be transparent.\n",
            "Published on 2020 Mar 17\n",
            "https://pubmed.ncbi.nlm.nih.gov/32197104\n",
            "\n",
            "COVID-19: towards controlling of a pandemic.\n",
            "Published on 2020 Mar 17\n",
            "https://pubmed.ncbi.nlm.nih.gov/32197103\n",
            "\n",
            "COVID-19 in pregnant women.\n",
            "Published on 2020 Mar 17\n",
            "https://pubmed.ncbi.nlm.nih.gov/32197098\n",
            "\n",
            "COVID-19 in pregnant women - Authors' reply.\n",
            "Published on 2020 Mar 17\n",
            "https://pubmed.ncbi.nlm.nih.gov/32197096\n",
            "\n",
            "Prevention of SARS-CoV-2 infection in patients with decompensated cirrhosis.\n",
            "Published on 2020 Mar 17\n",
            "https://pubmed.ncbi.nlm.nih.gov/32197093\n",
            "\n",
            "Probable Pangolin Origin of SARS-CoV-2 Associated with the COVID-19 Outbreak.\n",
            "Published on 2020 Mar 13\n",
            "https://pubmed.ncbi.nlm.nih.gov/32197085\n",
            "\n"
          ],
          "name": "stdout"
        }
      ]
    },
    {
      "cell_type": "markdown",
      "metadata": {
        "id": "CiKQng3b6o18",
        "colab_type": "text"
      },
      "source": [
        "# References\n",
        "\n",
        "http://biopython.org/DIST/docs/tutorial/Tutorial.html\n",
        "\n",
        "https://biopython.org/DIST/docs/api/Bio.Medline-pysrc.html\n",
        "\n",
        "\n"
      ]
    }
  ]
}